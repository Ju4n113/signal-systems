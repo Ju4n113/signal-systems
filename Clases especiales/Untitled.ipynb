{
 "cells": [
  {
   "cell_type": "markdown",
   "metadata": {},
   "source": [
    "# Game of life"
   ]
  },
  {
   "cell_type": "markdown",
   "metadata": {},
   "source": [
    "![](https://steamcdn-a.akamaihd.net/steam/apps/224700/header.jpg?t=1447356958)"
   ]
  },
  {
   "cell_type": "markdown",
   "metadata": {},
   "source": [
    "![](https://www.researchgate.net/profile/Leonardo_Sanchez3/publication/314104345/figure/fig5/AS:466792264015877@1488303356730/Figura-6-Captura-de-un-planeador-en-life-juego-de-la-vida-de-Conway-1983-Tomado-de.png)"
   ]
  },
  {
   "cell_type": "markdown",
   "metadata": {},
   "source": [
    "El juego de la vida es un juego de cero jugadores, lo que quiere que es un autómata celular (es un modelo matemático para un sistema dinámico que evoluciona en pasos discretos) que su evolución está determinada por el estado inicial y no necesita ninguna entrada de datos posterior, fue diseñado por el matemático británico [John Horton Conway](https://es.wikipedia.org/wiki/John_Horton_Conway) en 1970. \n",
    "\n",
    "![](https://static.urbantecno.com/2018/02/Este-es-John-Horton-Conway.jpg)\n",
    "\n",
    "> Falleció el pasado sabado 11 de abril producto del [COVID-19](https://www.argentina.gob.ar/salud/coronavirus-COVID-19) a los 82 años.\n",
    "\n",
    "## Referencias\n",
    "\n",
    "()[https://pybonacci.org/2012/11/30/juego-de-la-vida-de-conway-con-python-usando-numpy/]\n",
    "()[https://www.youtube.com/watch?v=omMcrvVGTMs]\n",
    "()[https://bitstorm.org/gameoflife/]\n",
    "\n",
    "## El juego\n",
    "\n",
    "El \"tablero de juego\" es una malla plana formada por cuadrados (las \"células\") que se extiende por el infinito en todas las direcciones. Por tanto, cada célula tiene 8 células \"vecinas\", que son las que están próximas a ella, incluidas las diagonales. Las células tienen dos estados: están \"vivas\" o \"muertas\" (o \"encendidas\" y \"apagadas\"). El estado de las células evoluciona a lo largo de unidades de tiempo discretas (se podría decir que por turnos). El estado de todas las células se tiene en cuenta para calcular el estado de las mismas al turno siguiente. Todas las células se actualizan simultáneamente en cada turno, siguiendo estas reglas:\n",
    "\n",
    "* El tablero cuadriculado que tienen dos posibles estados: **viva** (1) y **muerta** (0).\n",
    "* Cada célula tiene ocho células vecinas (se cuentan también las de las diagonales).\n",
    "* En cada paso, todas las células se actualizan instantáneamente teniendo en cuenta la siguiente regla:\n",
    "    * Cada célula viva con 2 o 3 células vecinas vivas sobrevive.\n",
    "    * Cada célula con 4 o más células vecinas vivas muere por superpoblación. \n",
    "    * Cada célula con 1 o ninguna célula vecina viva muere por soledad.\n",
    "    * Cada célula muerta con 3 células vecinas vivas nace.\n",
    "    \n",
    "    Una célula muerta con exactamente 3 células vecinas vivas \"nace\" (es decir, al turno siguiente estará viva).\n",
    "    Una célula viva con 2 o 3 células vecinas vivas sigue viva, en otro caso muere (por \"soledad\" o \"superpoblación\").\n",
    "\n",
    "si las células permanecen vivas, mueren o generan nuevas células depende de cuántos de sus ocho vecinos estén vivos.\n",
    "\n",
    "## Patrones\n",
    "La vida tiene una variedad de patrones reconocidos que provienen de determinadas posiciones iniciales\n"
   ]
  },
  {
   "cell_type": "code",
   "execution_count": 12,
   "metadata": {},
   "outputs": [
    {
     "data": {
      "image/png": "[encoded data removed]",
      "text/plain": [
       "<Figure size 288x288 with 1 Axes>"
      ]
     },
     "metadata": {
      "needs_background": "light"
     },
     "output_type": "display_data"
    }
   ],
   "source": [
    "# coding: utf-8\n",
    "\n",
    "\"\"\"Juego de la vida de Conway.\n",
    "Autor: Juan Luis Cano <juanlu001@gmail.com>\n",
    "El tablero es un array de NumPy, donde 0 significa célula muerta y 1 célula\n",
    "viva. Se muestra una animación con matplotlib.\n",
    "\"\"\"\n",
    "\n",
    "from time import sleep\n",
    "\n",
    "import numpy as np\n",
    "import matplotlib.pyplot as plt\n",
    "import matplotlib.cm as cm\n",
    "from matplotlib import animation\n",
    "\n",
    "\n",
    "def vecindario(b):\n",
    "    \"\"\"Array de células vivas en el vecindario.\"\"\"\n",
    "    vecindario = (\n",
    "        np.roll(np.roll(b, 1, 1), 1, 0) +  # Abajo-derecha\n",
    "        np.roll(b, 1, 0) +  # Abajo\n",
    "        np.roll(np.roll(b, -1, 1), 1, 0) +  # Abajo-izquierda\n",
    "        np.roll(b, -1, 1) +  # Izquierda\n",
    "        np.roll(np.roll(b, -1, 1), -1, 0) +  # Arriba-izquierda\n",
    "        np.roll(b, -1, 0) +  # Arriba\n",
    "        np.roll(np.roll(b, 1, 1), -1, 0) +  # Arriba-derecha\n",
    "        np.roll(b, 1, 1)  # Derecha\n",
    "    )\n",
    "    return vecindario\n",
    "\n",
    "\n",
    "def paso(b):\n",
    "    \"\"\"Paso en el juego de la vida de Conway.\"\"\"\n",
    "    v = vecindario(b)\n",
    "    buffer_b = b.copy()  # Hacemos una copia de la matriz\n",
    "    for i in range(buffer_b.shape[0]):\n",
    "        for j in range(buffer_b.shape[1]):\n",
    "            if v[i, j] == 3 or (v[i, j] == 2 and buffer_b[i, j]):\n",
    "                buffer_b[i, j] = 1\n",
    "            else:\n",
    "                buffer_b[i, j] = 0\n",
    "    return buffer_b\n",
    "\n",
    "\n",
    "# Parámetros del problema\n",
    "GENERACIONES = 50\n",
    "N = 8\n",
    "M = 8\n",
    "\n",
    "# Construimos el tablero\n",
    "tablero = np.zeros((N, M), dtype=int)\n",
    "\n",
    "# Añadimos una nave\n",
    "tablero[1, 1:4] = 1\n",
    "tablero[2, 1] = 1\n",
    "tablero[3, 2] = 1\n",
    "\n",
    "# Creamos la figura\n",
    "fig = plt.figure(figsize=(4, 4))\n",
    "ax = fig.add_subplot(111)\n",
    "ax.axis('off')\n",
    "b = tablero\n",
    "imagen = ax.imshow(b, interpolation=\"none\", cmap=cm.gray_r)\n",
    "\n",
    "\n",
    "def animate(i):\n",
    "    global b\n",
    "    b = paso(b)\n",
    "    imagen.set_data(b)\n",
    "    return imagen,\n",
    "\n",
    "anim = animation.FuncAnimation(fig, animate, frames=GENERACIONES, blit=True)\n",
    "plt.show()"
   ]
  },
  {
   "cell_type": "code",
   "execution_count": null,
   "metadata": {},
   "outputs": [],
   "source": []
  }
 ],
 "metadata": {
  "kernelspec": {
   "display_name": "Python 3",
   "language": "python",
   "name": "python3"
  },
  "language_info": {
   "codemirror_mode": {
    "name": "ipython",
    "version": 3
   },
   "file_extension": ".py",
   "mimetype": "text/x-python",
   "name": "python",
   "nbconvert_exporter": "python",
   "pygments_lexer": "ipython3",
   "version": "3.7.4"
  }
 },
 "nbformat": 4,
 "nbformat_minor": 4
}
