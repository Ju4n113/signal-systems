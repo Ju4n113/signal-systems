{
 "cells": [
  {
   "cell_type": "markdown",
   "metadata": {},
   "source": [
    "# Clase MATLAB + Python >> Introducción\n",
    "![logo](imagenes/logo.png)\n",
    "\n",
    "http://commonmark.org/help/"
   ]
  },
  {
   "cell_type": "markdown",
   "metadata": {},
   "source": [
    "## Temario\n",
    "* ¿Qué es Python?\n",
    "---"
   ]
  },
  {
   "cell_type": "markdown",
   "metadata": {},
   "source": [
    "## ¿Qué es Python?\n",
    "Python es un lenguaje de programación cuya filosofía hace hincapié en una sintaxis que favorezca un __código legible__. Se trata de un lenguaje de __programación multiparadigma__, ya que soporta __orientación a objetos__, __programación imperativa__ y, en menor medida,__programación funcional__. Es un lenguaje interpretado, usa __tipado dinámico__, es multiplataforma y es compatible con la Licencia pública general de GNU. Python fue creado a finales de los ochenta por __Guido van Rossum__ en el Centro para las Matemáticas y la Informática (CWI, Centrum Wiskunde & Informatica), en los Países Bajos, como un sucesor del lenguaje de programación ABC (lenguaje orientado a principiantes con similitud a BASIC). El nombre del lenguaje proviene de la afición de su creador por los humoristas británicos Monty Python (Comedia britanica)\n",
    "![logo](imagenes/Guido_van_Rossum.jpg)\n",
    "\n",
    "El intérprete de Python estándar incluye un modo interactivo en el cual se escriben las instrucciones en una especie de intérprete de comandos: las expresiones pueden ser introducidas una a una, pudiendo verse el resultado de su evaluación inmediatamente, lo que da la posibilidad de probar porciones de código en el modo interactivo antes de integrarlo como parte de un programa. Esto resulta útil tanto para las personas que se están familiarizando con el lenguaje como para los programadores más avanzados."
   ]
  },
  {
   "cell_type": "code",
   "execution_count": null,
   "metadata": {
    "collapsed": true
   },
   "outputs": [],
   "source": []
  }
 ],
 "metadata": {
  "kernelspec": {
   "display_name": "Python 3",
   "language": "python",
   "name": "python3"
  },
  "language_info": {
   "codemirror_mode": {
    "name": "ipython",
    "version": 3
   },
   "file_extension": ".py",
   "mimetype": "text/x-python",
   "name": "python",
   "nbconvert_exporter": "python",
   "pygments_lexer": "ipython3",
   "version": "3.6.3"
  }
 },
 "nbformat": 4,
 "nbformat_minor": 2
}
