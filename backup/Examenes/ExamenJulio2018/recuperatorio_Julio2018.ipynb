{
 "cells": [
  {
   "cell_type": "markdown",
   "metadata": {
    "slideshow": {
     "slide_type": "-"
    }
   },
   "source": [
    "# Señales & Sistemas - Recuperatorio MATLAB (Julio 2018)\n",
    "---"
   ]
  },
  {
   "cell_type": "markdown",
   "metadata": {},
   "source": [
    "## Consigna\n",
    "\n",
    "Realizar un script de MATLAB para sintetizar una respuesta al impulso (RIs), considerando las siguientes frecuencias centrales **(62.5, 125, 250, 500, 1000, 2000, 4000, 8000 Hz)** y ruido rosa. Por ultimo, utilizar esta RIs sintetizada para convolucionarla con audio y obtener un efecto de reverberación sintetizado, de igual mantera que lo realiza un pluging."
   ]
  },
  {
   "cell_type": "markdown",
   "metadata": {},
   "source": [
    "## Desarrollo\n",
    "\n",
    "Las siguientes ecuaciones definen una RIs, para una frecuencia central $f_i$:"
   ]
  },
  {
   "cell_type": "markdown",
   "metadata": {},
   "source": [
    "$$\\tau_i=\\frac{-ln(10^{-3})}{T_{60_i}}$$\n",
    "$$y_i=A_i.e^{\\tau_i.t}.cos(2\\pi f_it)$$"
   ]
  },
  {
   "cell_type": "markdown",
   "metadata": {},
   "source": [
    "Donde $\\tau_i$ define el **decaimiento exponencial** en función de $T_{60_i}$ (**tiempo de reverberación**), para una frecuencia $f_i$ y $A_i$ es la **amplitud rms**. El impulso sintetizado $y$, es la suma de cada impulso $f_i$:"
   ]
  },
  {
   "cell_type": "markdown",
   "metadata": {},
   "source": [
    "$$y = \\sum_{y=1}^{8}y_i $$"
   ]
  },
  {
   "cell_type": "markdown",
   "metadata": {},
   "source": [
    "Por ultimo, se agrega ruido rosa ($N$) para considerar un caso más real:"
   ]
  },
  {
   "cell_type": "markdown",
   "metadata": {},
   "source": [
    "$$ RIs = y + N $$"
   ]
  },
  {
   "cell_type": "markdown",
   "metadata": {},
   "source": [
    "Para obtener $N$, utilizar el siguiente script:"
   ]
  },
  {
   "cell_type": "markdown",
   "metadata": {},
   "source": [
    "``` matlab\n",
    "function audio = ruido_rosa(t, fs)   \n",
    "% audio = ruido_rosa(t, fs)\n",
    "%\n",
    "% Funcion para generar un audio de ruido rosa de tiempo y frecuencia de muestreo deseado.\n",
    "%\n",
    "% Argumentos de la funcion\n",
    "% - t:     es el tiempo de duracion del ruido.\n",
    "% - fs:    es la frecuencia de muestreo.\n",
    "%\n",
    "% Retorno\n",
    "% - audio:  es la señal de audio del ruido rosa generado.\n",
    "%\n",
    "% Ultima modificacion 6 de julio de 2018\n",
    "\n",
    "    Nx = t*fs; % número de muestras\n",
    "    Nx = int64(Nx); % transformación del numero real a entero (64 bits)\n",
    "    B = [0.049922035 -0.095993537 0.050612699 -0.004408786];\n",
    "    A = [1 -2.494956002 2.017265875 -0.522189400]; % A y B son los coeficientes del filtro 1/f (asociado a la función de transferencia)\n",
    "    nT60 = round(log(1000)/(1-max(abs(roots(A))))); % estimación del período transitorio del filtro\n",
    "    v = randn(1,Nx+nT60);  % generación del ruido blanco\n",
    "    p = filter(B,A,v); % se aplica el filtro 1/f\n",
    "    audio = p(nT60+1:end); % eliminación del período transitorio del filtro\n",
    "end\n",
    "```"
   ]
  },
  {
   "cell_type": "markdown",
   "metadata": {},
   "source": [
    "Ahora vamos a considerar un sistema de tiempo discreto lineal e invariante en el tiempo y causal, por ejemplo la $RIs$ obtenida anteriormente, entonces si:\n",
    "\n",
    "* La señal de entrada es $x[n]$ (clarinete.wav).\n",
    "* La respuesta al impulso del recinto es la sintetizada anteriormente $RIs[n]$   .\n",
    "* Entonces la respuesta del recinto frente al estimulo $x[n]$ es igual a la convolución de tiempo discreto $RIs[n]*x[n]$.\n"
   ]
  },
  {
   "cell_type": "markdown",
   "metadata": {},
   "source": [
    "## Entregar\n",
    "\n",
    "* Script (archivo .m), utilizando funciones locales, respetando indentado, agregando docstring y comentarios. Se valora el uso de estructura de datos.\n",
    "* Archivos de audio (.wav) de la RIs, del ruido, RIs + ruido y el resultado de la convolucion."
   ]
  },
  {
   "cell_type": "markdown",
   "metadata": {},
   "source": [
    "## Ayudas para el desarrollo del script\n",
    "\n",
    "* Crear un vector que contenga los $T_{60i}$, otro para las amplitudes rms $A_i$ (si los valores los expresa en dB, recordar realizar la conversión).\n",
    "* Crear un vector tiempo considerando los $T_{60i}$.\n",
    "* Considerar normalizar la señal antes de generar el .wav, para evitar la saturación.\n",
    "``` matlab\n",
    "x[n] = x[n]/max(abs(x[n]))\n",
    "``` \n",
    "* Considerar la relación señal/ruido entre $RIs$ y el ruido, con el objetivo de controlar la calidad de laS $RIs$."
   ]
  },
  {
   "cell_type": "markdown",
   "metadata": {},
   "source": [
    "## RESPUESTA\n",
    "---"
   ]
  },
  {
   "cell_type": "markdown",
   "metadata": {},
   "source": [
    "``` matlab\n",
    "function ir = synthetic_IRs\n",
    "\n",
    "    ir.self.RT = [2.02 2.07 2.34 1.39 1 1.17 1 0.76]; % tiempo de reverberacion T60 [s]\n",
    "    a = [-8.51 -5.02 -3.53 -2.78 0 2.79 2.51 2.38]; % amplitud RMS [dB]\n",
    "    ir.self.A = 10.^(a./20); % amplitud RMS\n",
    "    ir.self.fs = 44100; % frecuencia de muestreo [Hz]\n",
    "    ir.self.tiempo = max(ir.self.RT); % tiempo del archivo [s]\n",
    "    coef = 30; % relacion S/N deseada entre el impulso y el ruido [dB]\n",
    "    \n",
    "    t = 0:1/ir.self.fs:ir.self.tiempo;\n",
    "    ir.self.t = t(1:end-1); % vector tiempo\n",
    "   \n",
    "    ir.self.f = [62.5 125 250 500 1000 2000 4000 8000]; % 8 bandas de octava IEC [Hz]\n",
    "\n",
    "    audio_impulso = impulso(ir);\n",
    "    audiowrite('audio_impulso.wav',audio_impulso,ir.self.fs);\n",
    "    rms_impulso = rms(audio_impulso);\n",
    "     \n",
    "    audio_noise = noise(ir);\n",
    "    audiowrite('audio_noise.wav',audio_noise,ir.self.fs);\n",
    "    rms_noise = rms(audio_noise);\n",
    "    \n",
    "    SNR_original = 20*log10(rms_impulso/rms_noise); % relacion S/N original\n",
    "      \n",
    "    fact = 10^(coef/20)*(rms_noise/rms_impulso);\n",
    "    audio_impulso = (audio_impulso*fact);\n",
    "    rms_impulso = rms(audio_impulso);\n",
    "    \n",
    "    SNR_final = 20*log10(rms_impulso/rms_noise);\n",
    "    \n",
    "    \n",
    "    audio_impulsoNoise = (audio_impulso + audio_noise); \n",
    "    audio_impulsoNoise  = audio_impulsoNoise / max(abs(audio_impulsoNoise));\n",
    "    audiowrite('audio_impulsoNoise.wav',audio_impulsoNoise,ir.self.fs);\n",
    "    \n",
    "    audio_anec = audioread('clarinete.wav');\n",
    "\n",
    "    audio_reverb = conv(audio_anec,audio_impulsoNoise); \n",
    "    audio_reverb = audio_reverb / max(abs(audio_reverb));\n",
    "    audiowrite('audio_reverb.wav',audio_reverb,ir.self.fs)\n",
    "end\n",
    "\n",
    "function audio = impulso (ir)\n",
    "% audio = impulso (ir)\n",
    "%\n",
    "% Funcion para generar un audio de una respuesta al impulso sintetizada.\n",
    "%\n",
    "% Argumentos de la funcion\n",
    "% - ir:     estructura con las caracteristicas de la respuesta al impulso.\n",
    "%\n",
    "% Retorno\n",
    "% - audio:  es la señal de audio normalizada.\n",
    "%\n",
    "% Ultima modificacion 6 de julio de 2018\n",
    "   \n",
    "    tao = -log(10^-3)./ir.self.RT ;\n",
    "    y = zeros(length(ir.self.RT ),length(ir.self.t));\n",
    "\n",
    "    for i=1:length(ir.self.RT)\n",
    "        y(i,:) = ir.self.A(i)*exp(-tao(i).*ir.self.t).*cos(2*pi*ir.self.f(i).*ir.self.t);\n",
    "    end\n",
    "\n",
    "    audio = sum(y);\n",
    "    audio = audio/max(abs(audio)); % normalizar\n",
    "end\n",
    "\n",
    "function audio = noise (ir)\n",
    "% audio = ruido_rosa(ir)\n",
    "%\n",
    "% Funcion para generar un audio de ruido rosa.\n",
    "%\n",
    "% Argumentos de la funcion\n",
    "% - t:     es el tiempo de duracion del ruido.\n",
    "% - fs:    es la frecuencia de muestreo.\n",
    "%\n",
    "% Retorno\n",
    "% - audio:  es la señal de audio del ruido rosa generado.\n",
    "%\n",
    "% Ultima modificacion 6 de julio de 2018\n",
    "\n",
    "    Nx = length(ir.self.t); % número de muestras\n",
    "    Nx = int64(Nx); % transformación del numero real a entero (64 bits)\n",
    "    B = [0.049922035 -0.095993537 0.050612699 -0.004408786];\n",
    "    A = [1 -2.494956002 2.017265875 -0.522189400]; % A y B son los coeficientes del filtro 1/f (asociado a la función de transferencia)\n",
    "    nT60 = round(log(1000)/(1-max(abs(roots(A))))); % estimación del período transitorio del filtro\n",
    "    v = randn(1,Nx+nT60);  % generación del ruido blanco\n",
    "    p = filter(B,A,v); % se aplica el filtro 1/f\n",
    "    audio = p(nT60+1:end); % eliminación del período transitorio del filtro\n",
    "    audio = audio/max(abs(audio));\n",
    "end\n",
    "``` "
   ]
  }
 ],
 "metadata": {
  "kernelspec": {
   "display_name": "Python 3",
   "language": "python",
   "name": "python3"
  },
  "language_info": {
   "codemirror_mode": {
    "name": "ipython",
    "version": 3
   },
   "file_extension": ".py",
   "mimetype": "text/x-python",
   "name": "python",
   "nbconvert_exporter": "python",
   "pygments_lexer": "ipython3",
   "version": "3.6.4"
  }
 },
 "nbformat": 4,
 "nbformat_minor": 2
}
