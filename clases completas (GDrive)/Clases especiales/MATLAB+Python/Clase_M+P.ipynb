{
 "cells": [
  {
   "cell_type": "markdown",
   "metadata": {},
   "source": [
    "# Clase MATLAB + Python >> Introducción\n",
    "![logo](imagenes/logo.png)\n",
    "\n",
    "http://commonmark.org/help/"
   ]
  },
  {
   "cell_type": "markdown",
   "metadata": {},
   "source": [
    "## Temario\n",
    "* ¿Qué es Python?\n",
    "* \n",
    "---"
   ]
  },
  {
   "cell_type": "markdown",
   "metadata": {},
   "source": [
    "## ¿Qué es Python?\n",
    "Python es un lenguaje de programación cuya filosofía hace hincapié en una sintaxis que favorezca un __código legible__. Se trata de un lenguaje de __programación multiparadigma__, ya que soporta __orientación a objetos__, __programación imperativa__ y, en menor medida,__programación funcional__. Es un lenguaje interpretado, usa __tipado dinámico__, es multiplataforma y es compatible con la Licencia pública general de GNU. Python fue creado a finales de los ochenta por __Guido van Rossum__ en el Centro para las Matemáticas y la Informática (CWI, Centrum Wiskunde & Informatica), en los Países Bajos, como un sucesor del lenguaje de programación ABC (lenguaje orientado a principiantes con similitud a BASIC). El nombre del lenguaje proviene de la afición de su creador por los humoristas británicos Monty Python (Comedia britanica)\n",
    "\n",
    "![logo](imagenes/Guido_van_Rossum.jpg)\n",
    "\n",
    "El intérprete de Python estándar incluye un __modo interactivo__ en el cual se escriben las instrucciones en una especie de intérprete de comandos: las expresiones pueden ser introducidas una a una, pudiendo verse el resultado de su evaluación inmediatamente, lo que da la posibilidad de probar porciones de código en el modo interactivo antes de integrarlo como parte de un programa. Esto resulta útil tanto para las personas que se están familiarizando con el lenguaje como para los programadores más avanzados (Por ejemplo, el notebook de jupyter).\n",
    "\n",
    "### Filosofía de Python\n",
    "Los usuarios de Python se refieren a menudo a la Filosofía Python que es bastante análoga a la filosofía de Unix. Estos principios fueron famosamente descritos por el desarrollador de Python Tim Peters en El Zen de Python"
   ]
  },
  {
   "cell_type": "code",
   "execution_count": 1,
   "metadata": {},
   "outputs": [
    {
     "name": "stdout",
     "output_type": "stream",
     "text": [
      "The Zen of Python, by Tim Peters\n",
      "\n",
      "Beautiful is better than ugly.\n",
      "Explicit is better than implicit.\n",
      "Simple is better than complex.\n",
      "Complex is better than complicated.\n",
      "Flat is better than nested.\n",
      "Sparse is better than dense.\n",
      "Readability counts.\n",
      "Special cases aren't special enough to break the rules.\n",
      "Although practicality beats purity.\n",
      "Errors should never pass silently.\n",
      "Unless explicitly silenced.\n",
      "In the face of ambiguity, refuse the temptation to guess.\n",
      "There should be one-- and preferably only one --obvious way to do it.\n",
      "Although that way may not be obvious at first unless you're Dutch.\n",
      "Now is better than never.\n",
      "Although never is often better than *right* now.\n",
      "If the implementation is hard to explain, it's a bad idea.\n",
      "If the implementation is easy to explain, it may be a good idea.\n",
      "Namespaces are one honking great idea -- let's do more of those!\n"
     ]
    }
   ],
   "source": [
    "import this"
   ]
  },
  {
   "cell_type": "markdown",
   "metadata": {},
   "source": [
    "### Lo que Python hace bien\n",
    "\n",
    "* Python es **fácil** de usar:\n",
    "    * Los tipos son asociados con **objetos**, no con variables.\n",
    "    * Python opera generalmente en un **alto nivel de abstracción**.  \n",
    "    * Las reglas de sintaxis son muy simples.\n",
    "    \n",
    "\n",
    "* Python es **expresivo**:\n",
    "    * Esto implica menor cantidad de líneas de código.\n",
    "    \n",
    "    \n",
    "* Python es **legible**:\n",
    "    * Cuanto más fácil sea leer y entender el código, **mejor**.\n",
    "    * Identado obligatorio.\n",
    "    \n",
    "        \n",
    "* Python es **multiplataforma**:\n",
    "    * Versiones para Windows, Linux/Unix, MAC OS X y muchos otros.\n",
    "\n",
    "\n",
    "* Python es **libre** y **open source**:\n",
    "    * Python es estable, confiable, con gran soporte y una gran comunidad de desarrolladores.\n",
    "    "
   ]
  },
  {
   "cell_type": "code",
   "execution_count": null,
   "metadata": {
    "collapsed": true
   },
   "outputs": [],
   "source": []
  }
 ],
 "metadata": {
  "kernelspec": {
   "display_name": "Python [conda env:py3k]",
   "language": "python",
   "name": "conda-env-py3k-py"
  },
  "language_info": {
   "codemirror_mode": {
    "name": "ipython",
    "version": 3
   },
   "file_extension": ".py",
   "mimetype": "text/x-python",
   "name": "python",
   "nbconvert_exporter": "python",
   "pygments_lexer": "ipython3",
   "version": "3.5.2"
  }
 },
 "nbformat": 4,
 "nbformat_minor": 2
}
